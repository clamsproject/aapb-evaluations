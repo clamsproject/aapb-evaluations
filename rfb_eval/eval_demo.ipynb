{
 "cells": [
  {
   "cell_type": "code",
   "execution_count": 1,
   "metadata": {},
   "outputs": [
    {
     "name": "stderr",
     "output_type": "stream",
     "text": [
      "/home/bhj-dev/miniconda3/envs/rfb-eval/lib/python3.8/site-packages/mmif/utils/video_document_helper.py:15: UserWarning: Optional package \"cv2\" is not found. You might want to install Computer-Vision dependencies by running `pip install mmif-python[cv]==1.0.18`\n",
      "  warnings.warn(f\"Optional package \\\"{e.name}\\\" is not found. \"\n",
      "/home/bhj-dev/miniconda3/envs/rfb-eval/lib/python3.8/site-packages/mmif/utils/video_document_helper.py:15: UserWarning: Optional package \"ffmpeg\" is not found. You might want to install Computer-Vision dependencies by running `pip install mmif-python[cv]==1.0.18`\n",
      "  warnings.warn(f\"Optional package \\\"{e.name}\\\" is not found. \"\n",
      "/home/bhj-dev/miniconda3/envs/rfb-eval/lib/python3.8/site-packages/mmif/utils/video_document_helper.py:15: UserWarning: Optional package \"PIL\" is not found. You might want to install Computer-Vision dependencies by running `pip install mmif-python[cv]==1.0.18`\n",
      "  warnings.warn(f\"Optional package \\\"{e.name}\\\" is not found. \"\n"
     ]
    }
   ],
   "source": [
    "import json\n",
    "import os\n",
    "import pandas as pd\n",
    "from mmif import Mmif, AnnotationTypes, DocumentTypes, View, Annotation\n",
    "from mmif.utils import video_document_helper as vdh\n",
    "from typing import Dict, List, Set, Optional, Union, Tuple\n",
    "from collections import defaultdict\n",
    "from clams_utils.aapb import guidhandler\n",
    "from io import StringIO"
   ]
  },
  {
   "cell_type": "code",
   "execution_count": 25,
   "metadata": {},
   "outputs": [],
   "source": [
    "gold_dir = '/home/bhj-dev/clams/aapb-annotations/role-filler-binding/golds'\n",
    "\n",
    "def csv_string_to_set(csv_string: str) -> Set[Tuple[str, str]]:\n",
    "    \"\"\"\n",
    "    Convert csv-string to a set of tuples which represent (role, filler) pairs\n",
    "    \n",
    "    :params: csv_string: the input csv-formatted string\n",
    "    :return: a set of tuples of (role, filler) \n",
    "    \"\"\"\n",
    "    rf_set = set()\n",
    "    for pair in csv_string.split('\\n'):\n",
    "        _, role, filler = pair.split(',', maxsplit=2)\n",
    "        rf_set.add((role, filler))\n",
    "    return rf_set"
   ]
  },
  {
   "cell_type": "code",
   "execution_count": 26,
   "metadata": {},
   "outputs": [],
   "source": [
    "error_str = []\n",
    "for root, _, anns in os.walk(gold_dir):\n",
    "    for ann in anns:\n",
    "        file_path = os.path.join(root, ann)\n",
    "        df = pd.read_csv(file_path).dropna(subset=['ANNOTATIONS'])\n",
    "        for _, frame in df.iterrows():\n",
    "            if not frame['SKIPPED']:\n",
    "                input_string = frame['ANNOTATIONS']\n",
    "                try:\n",
    "                    output = csv_string_to_set(input_string)\n",
    "                except ValueError:\n",
    "                    error_str.append(input_string)\n",
    "                    print(f\"{guidhandler.get_aapb_guid_from(ann)}:\\n\\n{input_string}\\n\")"
   ]
  },
  {
   "cell_type": "code",
   "execution_count": 20,
   "metadata": {},
   "outputs": [
    {
     "data": {
      "text/plain": [
       "',Produced by,Tim Smith\\n,Produced by,Tony Van Witsen\\n,Videotape Courtesy Of:,WCBS, NEW YORK\\n,Videotape Courtesy Of:,KCTA, SEATTLE\\n,Videotape Courtesy Of:,KQED, SAN FRANCISCO\\n,Videotape Courtesy Of:,WFLI, INDIANA\\n,Videotape Courtesy Of:,WFAA, DALLAS'"
      ]
     },
     "execution_count": 20,
     "metadata": {},
     "output_type": "execute_result"
    }
   ],
   "source": [
    "sample_str = error_str[2]\n",
    "sample_str"
   ]
  },
  {
   "cell_type": "code",
   "execution_count": 22,
   "metadata": {},
   "outputs": [
    {
     "data": {
      "text/plain": [
       "[',Produced by,Tim Smith',\n",
       " ',Produced by,Tony Van Witsen',\n",
       " ',Videotape Courtesy Of:,WCBS, NEW YORK',\n",
       " ',Videotape Courtesy Of:,KCTA, SEATTLE',\n",
       " ',Videotape Courtesy Of:,KQED, SAN FRANCISCO',\n",
       " ',Videotape Courtesy Of:,WFLI, INDIANA',\n",
       " ',Videotape Courtesy Of:,WFAA, DALLAS']"
      ]
     },
     "execution_count": 22,
     "metadata": {},
     "output_type": "execute_result"
    }
   ],
   "source": [
    "sample_str.split('\\n')"
   ]
  },
  {
   "cell_type": "code",
   "execution_count": 24,
   "metadata": {},
   "outputs": [
    {
     "data": {
      "text/plain": [
       "['', 'Videotape Courtesy Of:', 'WCBS, NEW YORK']"
      ]
     },
     "execution_count": 24,
     "metadata": {},
     "output_type": "execute_result"
    }
   ],
   "source": [
    "',Videotape Courtesy Of:,WCBS, NEW YORK'.split(',', 2)"
   ]
  },
  {
   "cell_type": "code",
   "execution_count": 2,
   "metadata": {},
   "outputs": [],
   "source": [
    "pred_file = '/home/bhj-dev/clams/cpb-aacip-191-40ksn47s.swt.paddleocr.rfb.mmif'\n",
    "rfb_mmif = Mmif(json.load(open(pred_file)))\n",
    "rfb_view = rfb_mmif.views.get_last_contentful_view()\n",
    "ocr_view = rfb_mmif.get_view_by_id('v_1')\n",
    "swt_view = rfb_mmif.get_view_by_id('v_0')"
   ]
  },
  {
   "cell_type": "code",
   "execution_count": 3,
   "metadata": {},
   "outputs": [
    {
     "name": "stdout",
     "output_type": "stream",
     "text": [
      "TimePoint: 342009\n",
      "Frame: 10250\n"
     ]
    }
   ],
   "source": [
    "sample_tp = swt_view.get_annotation_by_id('v_0:tp_343') \n",
    "print(f\"TimePoint: {sample_tp.get_property('timePoint')}\")\n",
    "print(f\"Frame: {vdh.convert_timepoint(rfb_mmif, sample_tp, 'frames')}\")"
   ]
  },
  {
   "cell_type": "code",
   "execution_count": 8,
   "metadata": {},
   "outputs": [],
   "source": [
    "SWT_APP = 'http://apps.clams.ai/swt-detection/v5.0'\n",
    "RFB_APP = 'http://apps.clams.ai/role-filler-binder/41cb5b8'\n",
    "\n",
    "def get_align_to(ann: Annotation, view: View) -> Optional[Annotation]:\n",
    "    for al in view.get_annotations(AnnotationTypes.Alignment):\n",
    "        if aligned_ann := ann.aligned_to_by(al):\n",
    "            return aligned_ann\n",
    "\n",
    "def get_aligned_ann_of(mmif: Mmif, source: Annotation, source_app: str, target_app: str) -> Optional[Annotation]:\n",
    "    valid_views = {view.metadata.app: view for view in mmif.views if not (view.has_error() or view.has_warnings())}\n",
    "    # Validate if two apps are in mmif\n",
    "    if not (source_app and target_app) in valid_views:\n",
    "        raise ValueError(f\"Either {source_app} or {target_app} is not in mmif\")\n",
    "    \n",
    "    current_view, target_view = valid_views[source_app], valid_views[target_app]\n",
    "    current_ann = source\n",
    "    while current_view.id != target_view.id:\n",
    "        next_ann = get_align_to(current_ann, current_view)\n",
    "        current_view = mmif.get_view_by_id(next_ann.parent)\n",
    "        current_ann = next_ann\n",
    "    return current_ann\n",
    "\n",
    "def csv_string_to_pair(csv_string: str) -> List[Dict]:\n",
    "    return set(pd.read_csv(StringIO(csv_string), index_col=0).fillna('nan').itertuples(index=False, name=None))\n",
    "\n",
    "def load_pred(file: Union[str, os.PathLike]) -> Dict[str, Dict]:\n",
    "    guid = guidhandler.get_aapb_guid_from(file)\n",
    "    \n",
    "    rfb_mmif = Mmif(json.load(open(file)))\n",
    "    rfb_view = rfb_mmif.views.get_last_contentful_view()\n",
    "     \n",
    "    frames_dict = {}\n",
    "    for rfb_td in rfb_view.get_documents():\n",
    "        aligned_tp = get_aligned_ann_of(rfb_mmif, rfb_td, RFB_APP, SWT_APP)\n",
    "        aligned_frame = vdh.convert_timepoint(rfb_mmif, aligned_tp, 'frames')\n",
    "        frames_dict[aligned_frame] = csv_string_to_pair(rfb_td.text_value)\n",
    "    \n",
    "    return {guid: frames_dict} "
   ]
  },
  {
   "cell_type": "code",
   "execution_count": 11,
   "metadata": {},
   "outputs": [
    {
     "name": "stdout",
     "output_type": "stream",
     "text": [
      "10250:\n",
      "\t('Dir., Behavior Health Services', 'Lynn Brady')\n",
      "12888:\n",
      "\t('Knauer DSanta Fe', 'Rep. Patsy Trujillo')\n",
      "17413:\n",
      "\t('Hands Across Gultures', 'Verna Roybal')\n",
      "39591:\n",
      "\t('Knauer DSanta Fe', 'Rep. Patsy Trujillo')\n",
      "43157:\n",
      "\t('DirBehavior Health Services', 'Lynn Brady')\n",
      "47203:\n",
      "\t('Hands Across Cultures', 'Verna Roybal')\n",
      "52028:\n",
      "\t('Technical Director', 'Randy Lantz')\n",
      "\t('Director', 'Eric Mathes')\n",
      "52148:\n",
      "\t('Audio', 'Kevin Richard Lee')\n",
      "\t('Video Tape', 'Monica F. P. Williams')\n",
      "52298:\n",
      "\t('nan', 'Randy ALantz')\n",
      "\t('Prompter Operator', 'Alicia Maldonado')\n",
      "\t('nan', 'Deborah = Starke')\n",
      "52448:\n",
      "\t('nan', 'Trissel')\n",
      "\t('nan', 'Deborah Starke')\n",
      "\t('nan', 'Maldonado')\n",
      "52598:\n",
      "\t('Studio Lighting', 'Kevin Lee')\n",
      "\t('Studio Lighting', 'Michael Kamins')\n",
      "\t('Studio Engineers', 'Bob Henry')\n",
      "\t('Studio Engineers', 'Al Deme')\n",
      "52718:\n",
      "\t('Design Apprentice', 'Joseph Barron')\n",
      "\t('nan', 'Gordon Kennedy')\n"
     ]
    }
   ],
   "source": [
    "output = load_pred(pred_file)\n",
    "for frame, anns in output['cpb-aacip-191-40ksn47s'].items():\n",
    "    print(f\"{frame}:\")\n",
    "    for ann in anns:\n",
    "        print(f\"\\t{ann}\")"
   ]
  },
  {
   "cell_type": "code",
   "execution_count": 14,
   "metadata": {},
   "outputs": [
    {
     "data": {
      "text/plain": [
       "{'cpb-aacip-191-40ksn47s'}"
      ]
     },
     "execution_count": 14,
     "metadata": {},
     "output_type": "execute_result"
    }
   ],
   "source": [
    "set(output.keys())"
   ]
  },
  {
   "cell_type": "code",
   "execution_count": 16,
   "metadata": {},
   "outputs": [
    {
     "name": "stdout",
     "output_type": "stream",
     "text": [
      "{52448, 47203, 17413, 39591, 10250, 52298, 52718, 52148, 43157, 52598, 12888, 52028}\n"
     ]
    }
   ],
   "source": [
    "guid = next(iter(output))\n",
    "frame_set = set(output[guid].keys())\n",
    "print(frame_set)"
   ]
  },
  {
   "cell_type": "code",
   "execution_count": 17,
   "metadata": {},
   "outputs": [
    {
     "data": {
      "text/plain": [
       "{17413, 47203}"
      ]
     },
     "execution_count": 17,
     "metadata": {},
     "output_type": "execute_result"
    }
   ],
   "source": [
    "set.intersection(frame_set, {17413, 47203})"
   ]
  },
  {
   "cell_type": "code",
   "execution_count": null,
   "metadata": {},
   "outputs": [],
   "source": []
  }
 ],
 "metadata": {
  "kernelspec": {
   "display_name": "rfb-eval",
   "language": "python",
   "name": "python3"
  },
  "language_info": {
   "codemirror_mode": {
    "name": "ipython",
    "version": 3
   },
   "file_extension": ".py",
   "mimetype": "text/x-python",
   "name": "python",
   "nbconvert_exporter": "python",
   "pygments_lexer": "ipython3",
   "version": "3.8.19"
  }
 },
 "nbformat": 4,
 "nbformat_minor": 2
}
