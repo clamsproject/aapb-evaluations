{
 "cells": [
  {
   "cell_type": "code",
   "execution_count": 1,
   "metadata": {},
   "outputs": [],
   "source": [
    "import json\n",
    "import os\n",
    "import pandas as pd\n",
    "from mmif import Mmif, AnnotationTypes, DocumentTypes, View, Annotation\n",
    "from mmif.utils import video_document_helper as vdh\n",
    "from typing import Dict, List, Set, Optional, Union, Tuple\n",
    "from collections import defaultdict\n",
    "from clams_utils.aapb import guidhandler\n",
    "from io import StringIO"
   ]
  },
  {
   "cell_type": "code",
   "execution_count": 2,
   "metadata": {},
   "outputs": [
    {
     "data": {
      "text/html": [
       "<div>\n",
       "<style scoped>\n",
       "    .dataframe tbody tr th:only-of-type {\n",
       "        vertical-align: middle;\n",
       "    }\n",
       "\n",
       "    .dataframe tbody tr th {\n",
       "        vertical-align: top;\n",
       "    }\n",
       "\n",
       "    .dataframe thead th {\n",
       "        text-align: right;\n",
       "    }\n",
       "</style>\n",
       "<table border=\"1\" class=\"dataframe\">\n",
       "  <thead>\n",
       "    <tr style=\"text-align: right;\">\n",
       "      <th></th>\n",
       "      <th>GUID</th>\n",
       "      <th>FRAME</th>\n",
       "      <th>SKIPPED</th>\n",
       "      <th>ANNOTATIONS</th>\n",
       "    </tr>\n",
       "  </thead>\n",
       "  <tbody>\n",
       "    <tr>\n",
       "      <th>0</th>\n",
       "      <td>cpb-aacip-81-902z3f9j</td>\n",
       "      <td>240</td>\n",
       "      <td>False</td>\n",
       "      <td>,PROGRAM,WOMAN*\\n,AIR DATE,TBA*\\n,PROG LENGTH,...</td>\n",
       "    </tr>\n",
       "    <tr>\n",
       "      <th>1</th>\n",
       "      <td>cpb-aacip-81-902z3f9j</td>\n",
       "      <td>255</td>\n",
       "      <td>True</td>\n",
       "      <td>DUPLICATE</td>\n",
       "    </tr>\n",
       "    <tr>\n",
       "      <th>2</th>\n",
       "      <td>cpb-aacip-81-902z3f9j</td>\n",
       "      <td>270</td>\n",
       "      <td>True</td>\n",
       "      <td>DUPLICATE</td>\n",
       "    </tr>\n",
       "    <tr>\n",
       "      <th>3</th>\n",
       "      <td>cpb-aacip-81-902z3f9j</td>\n",
       "      <td>285</td>\n",
       "      <td>True</td>\n",
       "      <td>DUPLICATE</td>\n",
       "    </tr>\n",
       "    <tr>\n",
       "      <th>4</th>\n",
       "      <td>cpb-aacip-81-902z3f9j</td>\n",
       "      <td>300</td>\n",
       "      <td>True</td>\n",
       "      <td>DUPLICATE</td>\n",
       "    </tr>\n",
       "    <tr>\n",
       "      <th>...</th>\n",
       "      <td>...</td>\n",
       "      <td>...</td>\n",
       "      <td>...</td>\n",
       "      <td>...</td>\n",
       "    </tr>\n",
       "    <tr>\n",
       "      <th>65</th>\n",
       "      <td>cpb-aacip-81-902z3f9j</td>\n",
       "      <td>52605</td>\n",
       "      <td>True</td>\n",
       "      <td>DUPLICATE</td>\n",
       "    </tr>\n",
       "    <tr>\n",
       "      <th>66</th>\n",
       "      <td>cpb-aacip-81-902z3f9j</td>\n",
       "      <td>52620</td>\n",
       "      <td>True</td>\n",
       "      <td>DUPLICATE</td>\n",
       "    </tr>\n",
       "    <tr>\n",
       "      <th>67</th>\n",
       "      <td>cpb-aacip-81-902z3f9j</td>\n",
       "      <td>52635</td>\n",
       "      <td>True</td>\n",
       "      <td>DUPLICATE</td>\n",
       "    </tr>\n",
       "    <tr>\n",
       "      <th>68</th>\n",
       "      <td>cpb-aacip-81-902z3f9j</td>\n",
       "      <td>52650</td>\n",
       "      <td>True</td>\n",
       "      <td>DUPLICATE</td>\n",
       "    </tr>\n",
       "    <tr>\n",
       "      <th>69</th>\n",
       "      <td>cpb-aacip-81-902z3f9j</td>\n",
       "      <td>52665</td>\n",
       "      <td>True</td>\n",
       "      <td>no text in image</td>\n",
       "    </tr>\n",
       "  </tbody>\n",
       "</table>\n",
       "<p>70 rows × 4 columns</p>\n",
       "</div>"
      ],
      "text/plain": [
       "                     GUID  FRAME  SKIPPED  \\\n",
       "0   cpb-aacip-81-902z3f9j    240    False   \n",
       "1   cpb-aacip-81-902z3f9j    255     True   \n",
       "2   cpb-aacip-81-902z3f9j    270     True   \n",
       "3   cpb-aacip-81-902z3f9j    285     True   \n",
       "4   cpb-aacip-81-902z3f9j    300     True   \n",
       "..                    ...    ...      ...   \n",
       "65  cpb-aacip-81-902z3f9j  52605     True   \n",
       "66  cpb-aacip-81-902z3f9j  52620     True   \n",
       "67  cpb-aacip-81-902z3f9j  52635     True   \n",
       "68  cpb-aacip-81-902z3f9j  52650     True   \n",
       "69  cpb-aacip-81-902z3f9j  52665     True   \n",
       "\n",
       "                                          ANNOTATIONS  \n",
       "0   ,PROGRAM,WOMAN*\\n,AIR DATE,TBA*\\n,PROG LENGTH,...  \n",
       "1                                           DUPLICATE  \n",
       "2                                           DUPLICATE  \n",
       "3                                           DUPLICATE  \n",
       "4                                           DUPLICATE  \n",
       "..                                                ...  \n",
       "65                                          DUPLICATE  \n",
       "66                                          DUPLICATE  \n",
       "67                                          DUPLICATE  \n",
       "68                                          DUPLICATE  \n",
       "69                                   no text in image  \n",
       "\n",
       "[70 rows x 4 columns]"
      ]
     },
     "execution_count": 2,
     "metadata": {},
     "output_type": "execute_result"
    }
   ],
   "source": [
    "gold_file = './test/cpb-aacip-81-902z3f9j.gold.csv'\n",
    "df = pd.read_csv(gold_file).dropna(subset=['ANNOTATIONS'])\n",
    "df"
   ]
  },
  {
   "cell_type": "code",
   "execution_count": 3,
   "metadata": {},
   "outputs": [],
   "source": [
    "def csv_string_to_set(csv_string: str) -> Set[Tuple[str, str]]:\n",
    "    \"\"\"\n",
    "    Convert csv-string to a set of tuples which represent (role, filler) pairs\n",
    "    \n",
    "    :params: csv_string: the input csv-formatted string\n",
    "    :return: a set of tuples of (role, filler) \n",
    "    \"\"\"\n",
    "    rf_set = set()\n",
    "    for pair in csv_string.split('\\n'):\n",
    "        _, role, filler = pair.split(',', maxsplit=2)\n",
    "        rf_set.add((role, filler))\n",
    "    return rf_set"
   ]
  },
  {
   "cell_type": "code",
   "execution_count": 6,
   "metadata": {},
   "outputs": [
    {
     "data": {
      "text/plain": [
       "defaultdict(set,\n",
       "            {(240, 495): {('*OR', '*'),\n",
       "              ('AGENCY', '*'),\n",
       "              ('AIR DATE', 'TBA*'),\n",
       "              ('CLIENT', 'WNFD'),\n",
       "              ('CUT', '*'),\n",
       "              ('DIRECTOR', '*'),\n",
       "              ('PROG LENGTH', '*'),\n",
       "              ('PROGRAM', 'WOMAN*'),\n",
       "              ('RECORD DATE', '2/15/7?')},\n",
       "             (51870, 52035): {('advisory board', 'A. Wilmot Jacobsen, M.D.'),\n",
       "              ('advisory board', 'Dr. Gloria Roblin'),\n",
       "              ('advisory board', 'Marjorie Plumb, M.D.'),\n",
       "              ('advisory board', 'Stanford Copley, M.D.')},\n",
       "             (52050, 52155): {(\"Samantha Dean's fashions by\", 'Jenss')},\n",
       "             (52170, 52260): {('director', 'Will George')},\n",
       "             (52275, 52380): {('producer', 'Sandra Elkin')},\n",
       "             (52395,\n",
       "              52470): {('executive producer', 'John L. Hutchinson, Jr.')}})"
      ]
     },
     "execution_count": 6,
     "metadata": {},
     "output_type": "execute_result"
    }
   ],
   "source": [
    "min_frame, max_frame = -1, -1\n",
    "anns = set()\n",
    "frames = defaultdict(set)\n",
    "for _, frame in df.iterrows():\n",
    "    if not frame['SKIPPED']:\n",
    "        if anns:\n",
    "            frames[(min_frame, max_frame)] = anns\n",
    "        anns = csv_string_to_set(frame['ANNOTATIONS'])\n",
    "        min_frame = frame['FRAME']\n",
    "    else:\n",
    "        if frame['ANNOTATIONS'] == 'DUPLICATE':\n",
    "            max_frame = frame['FRAME']\n",
    "        else:\n",
    "            if anns:\n",
    "                frames[(min_frame, max_frame)] = anns\n",
    "                anns = set()\n",
    "    \n",
    "frames"
   ]
  },
  {
   "cell_type": "code",
   "execution_count": null,
   "metadata": {},
   "outputs": [],
   "source": []
  },
  {
   "cell_type": "code",
   "execution_count": null,
   "metadata": {},
   "outputs": [],
   "source": []
  },
  {
   "cell_type": "code",
   "execution_count": 26,
   "metadata": {},
   "outputs": [],
   "source": [
    "error_str = []\n",
    "for root, _, anns in os.walk(gold_dir):\n",
    "    for ann in anns:\n",
    "        file_path = os.path.join(root, ann)\n",
    "        df = pd.read_csv(file_path).dropna(subset=['ANNOTATIONS'])\n",
    "        for _, frame in df.iterrows():\n",
    "            if not frame['SKIPPED']:\n",
    "                input_string = frame['ANNOTATIONS']\n",
    "                try:\n",
    "                    output = csv_string_to_set(input_string)\n",
    "                except ValueError:\n",
    "                    error_str.append(input_string)\n",
    "                    print(f\"{guidhandler.get_aapb_guid_from(ann)}:\\n\\n{input_string}\\n\")"
   ]
  },
  {
   "cell_type": "code",
   "execution_count": 20,
   "metadata": {},
   "outputs": [
    {
     "data": {
      "text/plain": [
       "',Produced by,Tim Smith\\n,Produced by,Tony Van Witsen\\n,Videotape Courtesy Of:,WCBS, NEW YORK\\n,Videotape Courtesy Of:,KCTA, SEATTLE\\n,Videotape Courtesy Of:,KQED, SAN FRANCISCO\\n,Videotape Courtesy Of:,WFLI, INDIANA\\n,Videotape Courtesy Of:,WFAA, DALLAS'"
      ]
     },
     "execution_count": 20,
     "metadata": {},
     "output_type": "execute_result"
    }
   ],
   "source": [
    "sample_str = error_str[2]\n",
    "sample_str"
   ]
  },
  {
   "cell_type": "code",
   "execution_count": 22,
   "metadata": {},
   "outputs": [
    {
     "data": {
      "text/plain": [
       "[',Produced by,Tim Smith',\n",
       " ',Produced by,Tony Van Witsen',\n",
       " ',Videotape Courtesy Of:,WCBS, NEW YORK',\n",
       " ',Videotape Courtesy Of:,KCTA, SEATTLE',\n",
       " ',Videotape Courtesy Of:,KQED, SAN FRANCISCO',\n",
       " ',Videotape Courtesy Of:,WFLI, INDIANA',\n",
       " ',Videotape Courtesy Of:,WFAA, DALLAS']"
      ]
     },
     "execution_count": 22,
     "metadata": {},
     "output_type": "execute_result"
    }
   ],
   "source": [
    "sample_str.split('\\n')"
   ]
  },
  {
   "cell_type": "code",
   "execution_count": 24,
   "metadata": {},
   "outputs": [
    {
     "data": {
      "text/plain": [
       "['', 'Videotape Courtesy Of:', 'WCBS, NEW YORK']"
      ]
     },
     "execution_count": 24,
     "metadata": {},
     "output_type": "execute_result"
    }
   ],
   "source": [
    "',Videotape Courtesy Of:,WCBS, NEW YORK'.split(',', 2)"
   ]
  },
  {
   "cell_type": "code",
   "execution_count": 2,
   "metadata": {},
   "outputs": [],
   "source": [
    "pred_file = '/home/bhj-dev/clams/cpb-aacip-191-40ksn47s.swt.paddleocr.rfb.mmif'\n",
    "rfb_mmif = Mmif(json.load(open(pred_file)))\n",
    "rfb_view = rfb_mmif.views.get_last_contentful_view()\n",
    "ocr_view = rfb_mmif.get_view_by_id('v_1')\n",
    "swt_view = rfb_mmif.get_view_by_id('v_0')"
   ]
  },
  {
   "cell_type": "code",
   "execution_count": 3,
   "metadata": {},
   "outputs": [
    {
     "name": "stdout",
     "output_type": "stream",
     "text": [
      "TimePoint: 342009\n",
      "Frame: 10250\n"
     ]
    }
   ],
   "source": [
    "sample_tp = swt_view.get_annotation_by_id('v_0:tp_343') \n",
    "print(f\"TimePoint: {sample_tp.get_property('timePoint')}\")\n",
    "print(f\"Frame: {vdh.convert_timepoint(rfb_mmif, sample_tp, 'frames')}\")"
   ]
  },
  {
   "cell_type": "code",
   "execution_count": 8,
   "metadata": {},
   "outputs": [],
   "source": [
    "SWT_APP = 'http://apps.clams.ai/swt-detection/v5.0'\n",
    "RFB_APP = 'http://apps.clams.ai/role-filler-binder/41cb5b8'\n",
    "\n",
    "def get_align_to(ann: Annotation, view: View) -> Optional[Annotation]:\n",
    "    for al in view.get_annotations(AnnotationTypes.Alignment):\n",
    "        if aligned_ann := ann.aligned_to_by(al):\n",
    "            return aligned_ann\n",
    "\n",
    "def get_aligned_ann_of(mmif: Mmif, source: Annotation, source_app: str, target_app: str) -> Optional[Annotation]:\n",
    "    valid_views = {view.metadata.app: view for view in mmif.views if not (view.has_error() or view.has_warnings())}\n",
    "    # Validate if two apps are in mmif\n",
    "    if not (source_app and target_app) in valid_views:\n",
    "        raise ValueError(f\"Either {source_app} or {target_app} is not in mmif\")\n",
    "    \n",
    "    current_view, target_view = valid_views[source_app], valid_views[target_app]\n",
    "    current_ann = source\n",
    "    while current_view.id != target_view.id:\n",
    "        next_ann = get_align_to(current_ann, current_view)\n",
    "        current_view = mmif.get_view_by_id(next_ann.parent)\n",
    "        current_ann = next_ann\n",
    "    return current_ann\n",
    "\n",
    "def csv_string_to_pair(csv_string: str) -> List[Dict]:\n",
    "    return set(pd.read_csv(StringIO(csv_string), index_col=0).fillna('nan').itertuples(index=False, name=None))\n",
    "\n",
    "def load_pred(file: Union[str, os.PathLike]) -> Dict[str, Dict]:\n",
    "    guid = guidhandler.get_aapb_guid_from(file)\n",
    "    \n",
    "    rfb_mmif = Mmif(json.load(open(file)))\n",
    "    rfb_view = rfb_mmif.views.get_last_contentful_view()\n",
    "     \n",
    "    frames_dict = {}\n",
    "    for rfb_td in rfb_view.get_documents():\n",
    "        aligned_tp = get_aligned_ann_of(rfb_mmif, rfb_td, RFB_APP, SWT_APP)\n",
    "        aligned_frame = vdh.convert_timepoint(rfb_mmif, aligned_tp, 'frames')\n",
    "        frames_dict[aligned_frame] = csv_string_to_pair(rfb_td.text_value)\n",
    "    \n",
    "    return {guid: frames_dict} "
   ]
  },
  {
   "cell_type": "code",
   "execution_count": 11,
   "metadata": {},
   "outputs": [
    {
     "name": "stdout",
     "output_type": "stream",
     "text": [
      "10250:\n",
      "\t('Dir., Behavior Health Services', 'Lynn Brady')\n",
      "12888:\n",
      "\t('Knauer DSanta Fe', 'Rep. Patsy Trujillo')\n",
      "17413:\n",
      "\t('Hands Across Gultures', 'Verna Roybal')\n",
      "39591:\n",
      "\t('Knauer DSanta Fe', 'Rep. Patsy Trujillo')\n",
      "43157:\n",
      "\t('DirBehavior Health Services', 'Lynn Brady')\n",
      "47203:\n",
      "\t('Hands Across Cultures', 'Verna Roybal')\n",
      "52028:\n",
      "\t('Technical Director', 'Randy Lantz')\n",
      "\t('Director', 'Eric Mathes')\n",
      "52148:\n",
      "\t('Audio', 'Kevin Richard Lee')\n",
      "\t('Video Tape', 'Monica F. P. Williams')\n",
      "52298:\n",
      "\t('nan', 'Randy ALantz')\n",
      "\t('Prompter Operator', 'Alicia Maldonado')\n",
      "\t('nan', 'Deborah = Starke')\n",
      "52448:\n",
      "\t('nan', 'Trissel')\n",
      "\t('nan', 'Deborah Starke')\n",
      "\t('nan', 'Maldonado')\n",
      "52598:\n",
      "\t('Studio Lighting', 'Kevin Lee')\n",
      "\t('Studio Lighting', 'Michael Kamins')\n",
      "\t('Studio Engineers', 'Bob Henry')\n",
      "\t('Studio Engineers', 'Al Deme')\n",
      "52718:\n",
      "\t('Design Apprentice', 'Joseph Barron')\n",
      "\t('nan', 'Gordon Kennedy')\n"
     ]
    }
   ],
   "source": [
    "output = load_pred(pred_file)\n",
    "for frame, anns in output['cpb-aacip-191-40ksn47s'].items():\n",
    "    print(f\"{frame}:\")\n",
    "    for ann in anns:\n",
    "        print(f\"\\t{ann}\")"
   ]
  },
  {
   "cell_type": "code",
   "execution_count": 14,
   "metadata": {},
   "outputs": [
    {
     "data": {
      "text/plain": [
       "{'cpb-aacip-191-40ksn47s'}"
      ]
     },
     "execution_count": 14,
     "metadata": {},
     "output_type": "execute_result"
    }
   ],
   "source": [
    "set(output.keys())"
   ]
  },
  {
   "cell_type": "code",
   "execution_count": 16,
   "metadata": {},
   "outputs": [
    {
     "name": "stdout",
     "output_type": "stream",
     "text": [
      "{52448, 47203, 17413, 39591, 10250, 52298, 52718, 52148, 43157, 52598, 12888, 52028}\n"
     ]
    }
   ],
   "source": [
    "guid = next(iter(output))\n",
    "frame_set = set(output[guid].keys())\n",
    "print(frame_set)"
   ]
  },
  {
   "cell_type": "code",
   "execution_count": 17,
   "metadata": {},
   "outputs": [
    {
     "data": {
      "text/plain": [
       "{17413, 47203}"
      ]
     },
     "execution_count": 17,
     "metadata": {},
     "output_type": "execute_result"
    }
   ],
   "source": [
    "set.intersection(frame_set, {17413, 47203})"
   ]
  },
  {
   "cell_type": "code",
   "execution_count": null,
   "metadata": {},
   "outputs": [],
   "source": []
  }
 ],
 "metadata": {
  "kernelspec": {
   "display_name": "rfb-eval",
   "language": "python",
   "name": "python3"
  },
  "language_info": {
   "codemirror_mode": {
    "name": "ipython",
    "version": 3
   },
   "file_extension": ".py",
   "mimetype": "text/x-python",
   "name": "python",
   "nbconvert_exporter": "python",
   "pygments_lexer": "ipython3",
   "version": "3.8.19"
  }
 },
 "nbformat": 4,
 "nbformat_minor": 2
}
